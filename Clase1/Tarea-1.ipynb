{
 "cells": [
  {
   "cell_type": "markdown",
   "metadata": {},
   "source": [
    "# Tarea 1\n",
    "\n",
    "Luis Morera Claramunt"
   ]
  },
  {
   "cell_type": "markdown",
   "metadata": {},
   "source": [
    "Se importan las bibliotecas necesarias"
   ]
  },
  {
   "cell_type": "code",
   "execution_count": 48,
   "metadata": {},
   "outputs": [],
   "source": [
    "import numpy as np\n",
    "import matplotlib as plt\n",
    "from sklearn import preprocessing\n",
    "from sklearn.preprocessing import MinMaxScaler\n",
    "import pandas as pd"
   ]
  },
  {
   "cell_type": "markdown",
   "metadata": {},
   "source": [
    "Ahora se lee el set de datos"
   ]
  },
  {
   "cell_type": "code",
   "execution_count": 7,
   "metadata": {
    "collapsed": true
   },
   "outputs": [
    {
     "name": "stdout",
     "output_type": "stream",
     "text": [
      "            Date  Temp\n",
      "0     1981-01-01  20.7\n",
      "1     1981-01-02  17.9\n",
      "2     1981-01-03  18.8\n",
      "3     1981-01-04  14.6\n",
      "4     1981-01-05  15.8\n",
      "5     1981-01-06  15.8\n",
      "6     1981-01-07  15.8\n",
      "7     1981-01-08  17.4\n",
      "8     1981-01-09  21.8\n",
      "9     1981-01-10  20.0\n",
      "10    1981-01-11  16.2\n",
      "11    1981-01-12  13.3\n",
      "12    1981-01-13  16.7\n",
      "13    1981-01-14  21.5\n",
      "14    1981-01-15  25.0\n",
      "15    1981-01-16  20.7\n",
      "16    1981-01-17  20.6\n",
      "17    1981-01-18  24.8\n",
      "18    1981-01-19  17.7\n",
      "19    1981-01-20  15.5\n",
      "20    1981-01-21  18.2\n",
      "21    1981-01-22  12.1\n",
      "22    1981-01-23  14.4\n",
      "23    1981-01-24  16.0\n",
      "24    1981-01-25  16.5\n",
      "25    1981-01-26  18.7\n",
      "26    1981-01-27  19.4\n",
      "27    1981-01-28  17.2\n",
      "28    1981-01-29  15.5\n",
      "29    1981-01-30  15.1\n",
      "...          ...   ...\n",
      "3620  1990-12-02  13.2\n",
      "3621  1990-12-03  16.2\n",
      "3622  1990-12-04  17.3\n",
      "3623  1990-12-05  20.5\n",
      "3624  1990-12-06  20.2\n",
      "3625  1990-12-07  19.4\n",
      "3626  1990-12-08  15.5\n",
      "3627  1990-12-09  14.1\n",
      "3628  1990-12-10  11.0\n",
      "3629  1990-12-11  11.1\n",
      "3630  1990-12-12  14.0\n",
      "3631  1990-12-13  11.4\n",
      "3632  1990-12-14  12.5\n",
      "3633  1990-12-15  13.4\n",
      "3634  1990-12-16  13.6\n",
      "3635  1990-12-17  13.9\n",
      "3636  1990-12-18  17.2\n",
      "3637  1990-12-19  14.7\n",
      "3638  1990-12-20  15.4\n",
      "3639  1990-12-21  13.1\n",
      "3640  1990-12-22  13.2\n",
      "3641  1990-12-23  13.9\n",
      "3642  1990-12-24  10.0\n",
      "3643  1990-12-25  12.9\n",
      "3644  1990-12-26  14.6\n",
      "3645  1990-12-27  14.0\n",
      "3646  1990-12-28  13.6\n",
      "3647  1990-12-29  13.5\n",
      "3648  1990-12-30  15.7\n",
      "3649  1990-12-31  13.0\n",
      "\n",
      "[3650 rows x 2 columns]\n"
     ]
    }
   ],
   "source": [
    "dset = pd.read_csv('daily-min-temperatures.csv')\n",
    "print(dset)"
   ]
  },
  {
   "cell_type": "markdown",
   "metadata": {},
   "source": [
    "Se toman solamente las temperaturas"
   ]
  },
  {
   "cell_type": "code",
   "execution_count": 19,
   "metadata": {
    "collapsed": true
   },
   "outputs": [
    {
     "name": "stdout",
     "output_type": "stream",
     "text": [
      "0       20.7\n",
      "1       17.9\n",
      "2       18.8\n",
      "3       14.6\n",
      "4       15.8\n",
      "5       15.8\n",
      "6       15.8\n",
      "7       17.4\n",
      "8       21.8\n",
      "9       20.0\n",
      "10      16.2\n",
      "11      13.3\n",
      "12      16.7\n",
      "13      21.5\n",
      "14      25.0\n",
      "15      20.7\n",
      "16      20.6\n",
      "17      24.8\n",
      "18      17.7\n",
      "19      15.5\n",
      "20      18.2\n",
      "21      12.1\n",
      "22      14.4\n",
      "23      16.0\n",
      "24      16.5\n",
      "25      18.7\n",
      "26      19.4\n",
      "27      17.2\n",
      "28      15.5\n",
      "29      15.1\n",
      "        ... \n",
      "3620    13.2\n",
      "3621    16.2\n",
      "3622    17.3\n",
      "3623    20.5\n",
      "3624    20.2\n",
      "3625    19.4\n",
      "3626    15.5\n",
      "3627    14.1\n",
      "3628    11.0\n",
      "3629    11.1\n",
      "3630    14.0\n",
      "3631    11.4\n",
      "3632    12.5\n",
      "3633    13.4\n",
      "3634    13.6\n",
      "3635    13.9\n",
      "3636    17.2\n",
      "3637    14.7\n",
      "3638    15.4\n",
      "3639    13.1\n",
      "3640    13.2\n",
      "3641    13.9\n",
      "3642    10.0\n",
      "3643    12.9\n",
      "3644    14.6\n",
      "3645    14.0\n",
      "3646    13.6\n",
      "3647    13.5\n",
      "3648    15.7\n",
      "3649    13.0\n",
      "Name: Temp, Length: 3650, dtype: float64\n"
     ]
    }
   ],
   "source": [
    "temperature = dset['Temp']\n",
    "print(temperature)"
   ]
  },
  {
   "cell_type": "markdown",
   "metadata": {},
   "source": [
    "Se busca si hay por datos faltantes y cuantos son dentro del dataset"
   ]
  },
  {
   "cell_type": "code",
   "execution_count": 11,
   "metadata": {
    "collapsed": true
   },
   "outputs": [
    {
     "name": "stdout",
     "output_type": "stream",
     "text": [
      "Date    0\n",
      "Temp    0\n",
      "dtype: int64\n"
     ]
    }
   ],
   "source": [
    "mis = dset.isnull().sum()\n",
    "print(mis)"
   ]
  },
  {
   "cell_type": "markdown",
   "metadata": {},
   "source": [
    "Como no hay datos faltantes, se procede a normalizar y estandarizar el conjunto de datos\n",
    "Primero se normalizan los datos, es decir, que sus valores se encuentren entre 0 y 1."
   ]
  },
  {
   "cell_type": "markdown",
   "metadata": {},
   "source": [
    "### Normalizado de Forma Manual\n",
    "\n",
    "Se procede a estandarizar los datos de forma manual"
   ]
  },
  {
   "cell_type": "code",
   "execution_count": 29,
   "metadata": {
    "collapsed": true
   },
   "outputs": [
    {
     "name": "stdout",
     "output_type": "stream",
     "text": [
      "Min and max values of dataset:  0.0 26.3\n",
      "\n",
      "\n",
      "Normalized dataset: \n",
      " 0       0.787072\n",
      "1       0.680608\n",
      "2       0.714829\n",
      "3       0.555133\n",
      "4       0.600760\n",
      "5       0.600760\n",
      "6       0.600760\n",
      "7       0.661597\n",
      "8       0.828897\n",
      "9       0.760456\n",
      "10      0.615970\n",
      "11      0.505703\n",
      "12      0.634981\n",
      "13      0.817490\n",
      "14      0.950570\n",
      "15      0.787072\n",
      "16      0.783270\n",
      "17      0.942966\n",
      "18      0.673004\n",
      "19      0.589354\n",
      "20      0.692015\n",
      "21      0.460076\n",
      "22      0.547529\n",
      "23      0.608365\n",
      "24      0.627376\n",
      "25      0.711027\n",
      "26      0.737643\n",
      "27      0.653992\n",
      "28      0.589354\n",
      "29      0.574144\n",
      "          ...   \n",
      "3620    0.501901\n",
      "3621    0.615970\n",
      "3622    0.657795\n",
      "3623    0.779468\n",
      "3624    0.768061\n",
      "3625    0.737643\n",
      "3626    0.589354\n",
      "3627    0.536122\n",
      "3628    0.418251\n",
      "3629    0.422053\n",
      "3630    0.532319\n",
      "3631    0.433460\n",
      "3632    0.475285\n",
      "3633    0.509506\n",
      "3634    0.517110\n",
      "3635    0.528517\n",
      "3636    0.653992\n",
      "3637    0.558935\n",
      "3638    0.585551\n",
      "3639    0.498099\n",
      "3640    0.501901\n",
      "3641    0.528517\n",
      "3642    0.380228\n",
      "3643    0.490494\n",
      "3644    0.555133\n",
      "3645    0.532319\n",
      "3646    0.517110\n",
      "3647    0.513308\n",
      "3648    0.596958\n",
      "3649    0.494297\n",
      "Name: Temp, Length: 3650, dtype: float64\n"
     ]
    }
   ],
   "source": [
    "#Se calculan los valores maximos y minimos\n",
    "min = temperature.min()\n",
    "max = temperature.max()\n",
    "print(\"Min and max values of dataset: \", min, max)\n",
    "print(\"\\n\")\n",
    "\n",
    "man_norm = (temperature-min)/(max-min)\n",
    "print(\"Normalized dataset: \\n\", man_norm)"
   ]
  },
  {
   "cell_type": "markdown",
   "metadata": {},
   "source": [
    "### Estandarizado de Forma Manual\n",
    "\n",
    "Se hace que los datos tengan media 0 y desviacion 1"
   ]
  },
  {
   "cell_type": "code",
   "execution_count": 76,
   "metadata": {
    "collapsed": true
   },
   "outputs": [
    {
     "name": "stdout",
     "output_type": "stream",
     "text": [
      "Mean: \n",
      " 0.42500963591853747\n",
      "Std Deviation: \n",
      " 0.15482269579456967\n",
      "\n",
      "\n",
      "Datos normalizados y estandarizados: \n",
      " 0       2.338563\n",
      "1       1.650913\n",
      "2       1.871943\n",
      "3       0.840467\n",
      "4       1.135175\n",
      "5       1.135175\n",
      "6       1.135175\n",
      "7       1.528118\n",
      "8       2.608711\n",
      "9       2.166650\n",
      "10      1.233411\n",
      "11      0.521201\n",
      "12      1.356205\n",
      "13      2.535034\n",
      "14      3.394597\n",
      "15      2.338563\n",
      "16      2.314004\n",
      "17      3.345479\n",
      "18      1.601795\n",
      "19      1.061498\n",
      "20      1.724589\n",
      "21      0.226494\n",
      "22      0.791350\n",
      "23      1.184293\n",
      "24      1.307087\n",
      "25      1.847384\n",
      "26      2.019297\n",
      "27      1.479000\n",
      "28      1.061498\n",
      "29      0.963262\n",
      "          ...   \n",
      "3620    0.496642\n",
      "3621    1.233411\n",
      "3622    1.503559\n",
      "3623    2.289445\n",
      "3624    2.215768\n",
      "3625    2.019297\n",
      "3626    1.061498\n",
      "3627    0.717673\n",
      "3628   -0.043654\n",
      "3629   -0.019095\n",
      "3630    0.693114\n",
      "3631    0.054581\n",
      "3632    0.324730\n",
      "3633    0.545760\n",
      "3634    0.594878\n",
      "3635    0.668555\n",
      "3636    1.479000\n",
      "3637    0.865026\n",
      "3638    1.036939\n",
      "3639    0.472083\n",
      "3640    0.496642\n",
      "3641    0.668555\n",
      "3642   -0.289244\n",
      "3643    0.422966\n",
      "3644    0.840467\n",
      "3645    0.693114\n",
      "3646    0.594878\n",
      "3647    0.570319\n",
      "3648    1.110616\n",
      "3649    0.447524\n",
      "Name: Temp, Length: 3650, dtype: float64\n",
      "Comprobando los resultados:\n",
      "Media de los datos luego de estandarizar:  -3.484579443864601e-16\n",
      "Desviacion std de los datos luego de estandarizar:  1.0\n"
     ]
    }
   ],
   "source": [
    "mean = man_norm.mean()\n",
    "std = man_norm.std()\n",
    "print(\"Mean: \\n\", mean)\n",
    "print(\"Std Deviation: \\n\", std)\n",
    "print('\\n')\n",
    "\n",
    "man_std = (man_norm-mean)/std\n",
    "print(\"Datos normalizados y estandarizados: \\n\", man_std)\n",
    "\n",
    "#Comprobando que los datos obtenidos sean correctos\n",
    "new_mean = man_std.mean()\n",
    "new_std = man_std.std()\n",
    "\n",
    "print(\"Comprobando los resultados:\")\n",
    "print(\"Media de los datos luego de estandarizar: \", new_mean)\n",
    "print(\"Desviacion std de los datos luego de estandarizar: \", new_std)"
   ]
  },
  {
   "cell_type": "markdown",
   "metadata": {},
   "source": [
    "### Normalizado de Forma Automática\n",
    "\n",
    "Se procede a estandarizar los datos usando la libreria scikit-learn"
   ]
  },
  {
   "cell_type": "code",
   "execution_count": 74,
   "metadata": {},
   "outputs": [
    {
     "name": "stdout",
     "output_type": "stream",
     "text": [
      "[[0.78707224]\n",
      " [0.68060837]\n",
      " [0.7148289 ]\n",
      " ...\n",
      " [0.51330798]\n",
      " [0.59695817]\n",
      " [0.49429658]]\n"
     ]
    }
   ],
   "source": [
    "#Se ajustan los datos para poder usar la funcion de la libreria\n",
    "reshaped_temp = temperature.values.reshape(-1,1)\n",
    "\n",
    "#Se calculan los datos normalizados\n",
    "scaler = MinMaxScaler()\n",
    "auto_norm = preprocessing.MinMaxScaler().fit_transform(reshaped_temp)\n",
    "print(auto_norm)"
   ]
  },
  {
   "cell_type": "markdown",
   "metadata": {},
   "source": [
    "### Estandarizado de Forma Automática\n",
    "\n",
    "Ahora se va a estandarizar los datos obtenidos anteriormente"
   ]
  },
  {
   "cell_type": "code",
   "execution_count": 77,
   "metadata": {},
   "outputs": [
    {
     "name": "stdout",
     "output_type": "stream",
     "text": [
      "La media de los datos es:  -3.309377125458001e-16\n",
      "La desviacion de los datos es:  1.0\n",
      "Datos estandarizados:  [[2.33888328]\n",
      " [1.65113873]\n",
      " [1.87219948]\n",
      " ...\n",
      " [0.5703973 ]\n",
      " [1.11076801]\n",
      " [0.44758577]]\n"
     ]
    }
   ],
   "source": [
    "auto_std = preprocessing.scale(auto_norm)\n",
    "print(\"La media de los datos es: \", auto_std.mean())\n",
    "print(\"La desviacion de los datos es: \", auto_std.std())\n",
    "print(\"Datos estandarizados: \", auto_std)"
   ]
  }
 ],
 "metadata": {
  "kernelspec": {
   "display_name": "Python 3",
   "language": "python",
   "name": "python3"
  },
  "language_info": {
   "codemirror_mode": {
    "name": "ipython",
    "version": 3
   },
   "file_extension": ".py",
   "mimetype": "text/x-python",
   "name": "python",
   "nbconvert_exporter": "python",
   "pygments_lexer": "ipython3",
   "version": "3.7.3"
  }
 },
 "nbformat": 4,
 "nbformat_minor": 2
}
